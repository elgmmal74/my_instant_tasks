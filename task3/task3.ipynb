{
 "cells": [
  {
   "cell_type": "code",
   "execution_count": 1,
   "id": "6fe5bccb",
   "metadata": {},
   "outputs": [
    {
     "name": "stdout",
     "output_type": "stream",
     "text": [
      "A : ['B']\n",
      "B : ['A', 'C']\n",
      "C : ['B', 'D']\n",
      "D : ['C', 'E']\n",
      "E : ['D']\n"
     ]
    }
   ],
   "source": [
    "\n",
    "#graph implementation in many ways\n",
    "class Graph:\n",
    "    def __init__(self):\n",
    "        self.graph = {}\n",
    "        \n",
    "    def add_edge(self, u, v):\n",
    "        if u not in self.graph:\n",
    "            self.graph[u] = [v]\n",
    "        else:\n",
    "            self.graph[u].append(v)\n",
    "            \n",
    "        if v not in self.graph:\n",
    "            self.graph[v] = [u]\n",
    "        else:\n",
    "            self.graph[v].append(u)\n",
    "            \n",
    "    def print_graph(self):\n",
    "        for node in self.graph:\n",
    "            print(node, ':', self.graph[node])\n",
    "          \n",
    "# create graph object\n",
    "g = Graph()\n",
    "\n",
    "# add edges\n",
    "g.add_edge('A', 'B')\n",
    "g.add_edge('B', 'C')\n",
    "g.add_edge('C', 'D')\n",
    "g.add_edge('D', 'E')\n",
    "\n",
    "# print graph\n",
    "g.print_graph()"
   ]
  },
  {
   "cell_type": "code",
   "execution_count": 2,
   "id": "f7a47346",
   "metadata": {},
   "outputs": [
    {
     "name": "stdout",
     "output_type": "stream",
     "text": [
      "A : {'B'}\n",
      "B : {'C', 'A'}\n",
      "C : {'B', 'D'}\n",
      "D : {'C', 'E'}\n",
      "E : {'D'}\n"
     ]
    }
   ],
   "source": [
    "#another implelementation\n",
    "\n",
    "class Graph:\n",
    "    def __init__(self):\n",
    "        self.graph = {}\n",
    "        \n",
    "    def add_edge(self, u, v):\n",
    "        if u not in self.graph:\n",
    "            self.graph[u] = set()\n",
    "        self.graph[u].add(v)\n",
    "        \n",
    "        if v not in self.graph:\n",
    "            self.graph[v] = set()\n",
    "        self.graph[v].add(u)\n",
    "            \n",
    "    def print_graph(self):\n",
    "        for node in self.graph:\n",
    "            print(node, ':', self.graph[node])\n",
    "            \n",
    "# create graph object\n",
    "g = Graph()\n",
    "\n",
    "# add edges\n",
    "g.add_edge('A', 'B')\n",
    "g.add_edge('B', 'C')\n",
    "g.add_edge('C', 'D')\n",
    "g.add_edge('D', 'E')\n",
    "\n",
    "# print graph\n",
    "g.print_graph()"
   ]
  },
  {
   "cell_type": "code",
   "execution_count": null,
   "id": "25a08176",
   "metadata": {},
   "outputs": [],
   "source": []
  }
 ],
 "metadata": {
  "kernelspec": {
   "display_name": "Python 3 (ipykernel)",
   "language": "python",
   "name": "python3"
  },
  "language_info": {
   "codemirror_mode": {
    "name": "ipython",
    "version": 3
   },
   "file_extension": ".py",
   "mimetype": "text/x-python",
   "name": "python",
   "nbconvert_exporter": "python",
   "pygments_lexer": "ipython3",
   "version": "3.11.3"
  }
 },
 "nbformat": 4,
 "nbformat_minor": 5
}
