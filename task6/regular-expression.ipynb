{
 "cells": [
  {
   "cell_type": "code",
   "execution_count": 1,
   "id": "573da27b",
   "metadata": {},
   "outputs": [
    {
     "name": "stdout",
     "output_type": "stream",
     "text": [
      "['ibrahim walid', 'Omar elgmmal']\n",
      "['ibrahim123@gmail.com', 'Omar@gmail.net']\n",
      "['01023456789', '01098765432']\n"
     ]
    }
   ],
   "source": [
    "import re\n",
    "\n",
    "f = open(r'E:\\data.txt', 'r')\n",
    "my_data = f.read()\n",
    "\n",
    "names = re.findall(r'[a-zA-Z]+ [a-zA-Z]+', my_data)\n",
    "name_list= []\n",
    "\n",
    "for name in names:\n",
    "    name_list.append(name)\n",
    "\n",
    "print(name_list)\n",
    "\n",
    "emails = re.findall(r\"[A-z0-9\\.]+@[A-z]+\\.(?:com|net)\", my_data ,)\n",
    "email_list = []\n",
    "for email in emails:\n",
    "    email_list.append(email)\n",
    "print(email_list)\n",
    "\n",
    "phones = re.findall(r\"\\d{11}\", my_data ,)\n",
    "phone_list = []\n",
    "for phone in phones:\n",
    "    phone_list.append(phone)\n",
    "print(phone_list)\n",
    "f.close()"
   ]
  },
  {
   "cell_type": "code",
   "execution_count": null,
   "id": "280254d6",
   "metadata": {},
   "outputs": [],
   "source": []
  }
 ],
 "metadata": {
  "kernelspec": {
   "display_name": "Python 3 (ipykernel)",
   "language": "python",
   "name": "python3"
  },
  "language_info": {
   "codemirror_mode": {
    "name": "ipython",
    "version": 3
   },
   "file_extension": ".py",
   "mimetype": "text/x-python",
   "name": "python",
   "nbconvert_exporter": "python",
   "pygments_lexer": "ipython3",
   "version": "3.11.3"
  }
 },
 "nbformat": 4,
 "nbformat_minor": 5
}
