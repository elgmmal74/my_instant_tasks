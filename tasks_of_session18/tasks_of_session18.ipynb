{
 "cells": [
  {
   "cell_type": "markdown",
   "metadata": {},
   "source": [
    "# task1: How to sort dataframe by index and how to sort dataframe by specific column\n"
   ]
  },
  {
   "cell_type": "markdown",
   "metadata": {},
   "source": [
    "To sort a DataFrame by its index"
   ]
  },
  {
   "cell_type": "code",
   "execution_count": 1,
   "metadata": {},
   "outputs": [
    {
     "name": "stdout",
     "output_type": "stream",
     "text": [
      "   A  B\n",
      "0  1  5\n",
      "1  4  8\n",
      "2  2  6\n",
      "3  3  7\n"
     ]
    }
   ],
   "source": [
    "import pandas as pd\n",
    "\n",
    "# Create a sample DataFrame\n",
    "data = {'A': [1, 4, 2, 3], 'B': [5, 8, 6, 7]}\n",
    "df = pd.DataFrame(data)\n",
    "\n",
    "# Sort the DataFrame by index\n",
    "df_sorted = df.sort_index()\n",
    "\n",
    "print(df_sorted)"
   ]
  },
  {
   "cell_type": "markdown",
   "metadata": {},
   "source": [
    "To sort a DataFrame by a specific column"
   ]
  },
  {
   "cell_type": "code",
   "execution_count": 3,
   "metadata": {},
   "outputs": [
    {
     "name": "stdout",
     "output_type": "stream",
     "text": [
      "   A  B\n",
      "0  1  5\n",
      "2  2  6\n",
      "3  3  7\n",
      "1  4  8\n"
     ]
    }
   ],
   "source": [
    "# Create a sample DataFrame\n",
    "data = {'A': [1, 4, 2, 3], 'B': [5, 8, 6, 7]}\n",
    "df = pd.DataFrame(data)\n",
    "\n",
    "# Sort the DataFrame by column 'A'\n",
    "df_sorted = df.sort_values('A')\n",
    "\n",
    "print(df_sorted)"
   ]
  },
  {
   "cell_type": "markdown",
   "metadata": {},
   "source": [
    "# Task2: What is lambda expression"
   ]
  },
  {
   "cell_type": "markdown",
   "metadata": {},
   "source": [
    "A lambda expression, also known as an anonymous function, is a way to create small, one-line functions in Python without explicitly defining a named function. Lambda expressions are commonly used in situations where a simple function is needed for a short period of time, such as in functional programming and when working with higher-order functions.\n"
   ]
  },
  {
   "cell_type": "code",
   "execution_count": 4,
   "metadata": {},
   "outputs": [
    {
     "name": "stdout",
     "output_type": "stream",
     "text": [
      "[1, 4, 9, 16, 25]\n"
     ]
    }
   ],
   "source": [
    "numbers = [1, 2, 3, 4, 5]\n",
    "squared_numbers = list(map(lambda x: x**2, numbers))\n",
    "print(squared_numbers)"
   ]
  },
  {
   "cell_type": "markdown",
   "metadata": {},
   "source": [
    "# Task3: How to detect and remove outliers using pandas"
   ]
  },
  {
   "cell_type": "code",
   "execution_count": 1,
   "metadata": {},
   "outputs": [
    {
     "name": "stdout",
     "output_type": "stream",
     "text": [
      "   Value\n",
      "0     10\n",
      "1     20\n",
      "2     30\n",
      "3     40\n",
      "4    500\n"
     ]
    }
   ],
   "source": [
    "import pandas as pd\n",
    "import numpy as np\n",
    "\n",
    "# Create a sample DataFrame\n",
    "data = {'Value': [10, 20, 30, 40, 500]}\n",
    "df = pd.DataFrame(data)\n",
    "\n",
    "# Calculate z-scores\n",
    "z_scores = np.abs((df['Value'] - df['Value'].mean()) / df['Value'].std())\n",
    "\n",
    "# Set a threshold for outlier detection\n",
    "threshold = 3\n",
    "\n",
    "# Detect outliers\n",
    "outliers = df[z_scores > threshold]\n",
    "\n",
    "# Remove outliers\n",
    "df = df[z_scores <= threshold]\n",
    "\n",
    "# Print the DataFrame without outliers\n",
    "print(df)"
   ]
  },
  {
   "cell_type": "markdown",
   "metadata": {},
   "source": [
    "# Task4: How to read random rows from our data"
   ]
  },
  {
   "cell_type": "markdown",
   "metadata": {},
   "source": [
    "To read random rows from your data using pandas, you can utilize the sample() function. The sample() function allows you to randomly select rows from a DataFrame or Series. Here's an example of how you can use it:"
   ]
  },
  {
   "cell_type": "code",
   "execution_count": 8,
   "metadata": {},
   "outputs": [],
   "source": [
    "# Load your data into a DataFrame (replace 'data.csv' with your actual data file)\n",
    "df = pd.read_csv('data.csv')\n",
    "\n",
    "# Read random rows from the DataFrame\n",
    "random_rows = df.sample(n=5)  # Select 5 random rows\n",
    "\n",
    "print(random_rows)"
   ]
  },
  {
   "cell_type": "markdown",
   "metadata": {},
   "source": [
    "# Task5: How to combine more than two dataframes at the same tiem"
   ]
  },
  {
   "cell_type": "code",
   "execution_count": null,
   "metadata": {},
   "outputs": [],
   "source": [
    "# To combine more than two DataFrames at the same time in pandas, you can use the concat() function or the merge() function.\n",
    "\n",
    "# Using concat():\n",
    "# The concat() function allows you to concatenate multiple DataFrames along a specified axis. Here's an example:\n",
    "# python\n",
    "# Copy\n",
    "import pandas as pd\n",
    "\n",
    "# Assume you have three DataFrames: df1, df2, df3\n",
    "\n",
    "# Concatenate the DataFrames vertically (along the rows)\n",
    "combined_df = pd.concat([df1, df2, df3], axis=0)\n",
    "\n",
    "print(combined_df)\n",
    "# In the above example, pd.concat() is used to concatenate df1, df2, and df3 vertically (along the rows). The resulting DataFrame combined_df will have all the rows from the three input DataFrames.\n",
    "\n",
    "# If you want to concatenate the DataFrames horizontally (along the columns), you can set axis=1:\n",
    "\n",
    "combined_df = pd.concat([df1, df2, df3], axis=1)\n",
    "# In this case, the resulting DataFrame will have all the columns from the three input DataFrames.\n",
    "\n",
    "# Using merge():\n",
    "# The merge() function allows you to merge DataFrames based on common columns or indices. Here's an example:\n",
    "\n",
    "\n",
    "# Assume you have three DataFrames: df1, df2, df3\n",
    "\n",
    "# Merge the DataFrames based on a common column\n",
    "combined_df = pd.merge(df1, df2, on='common_column')\n",
    "combined_df = pd.merge(combined_df, df3, on='common_column')\n",
    "\n",
    "print(combined_df)\n",
    "# In the above example, pd.merge() is used to merge df1, df2, and df3 based on a common column specified by 'common_column'. The resulting DataFrame combined_df will have all the columns from the three input DataFrames.\n",
    "\n",
    "# Note that the merge operation can be performed multiple times to combine more than two DataFrames. You need to specify the common column(s) on which the merge will be performed.\n",
    "\n",
    "# Choose the appropriate method (concat() or merge()) based on how you want to combine the DataFrames and the specific requirements of your data."
   ]
  },
  {
   "cell_type": "code",
   "execution_count": null,
   "metadata": {},
   "outputs": [],
   "source": []
  }
 ],
 "metadata": {
  "kernelspec": {
   "display_name": "Python 3",
   "language": "python",
   "name": "python3"
  },
  "language_info": {
   "codemirror_mode": {
    "name": "ipython",
    "version": 3
   },
   "file_extension": ".py",
   "mimetype": "text/x-python",
   "name": "python",
   "nbconvert_exporter": "python",
   "pygments_lexer": "ipython3",
   "version": "3.8.3"
  }
 },
 "nbformat": 4,
 "nbformat_minor": 4
}
