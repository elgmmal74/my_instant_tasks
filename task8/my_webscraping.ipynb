{
 "cells": [
  {
   "cell_type": "code",
   "execution_count": 52,
   "id": "8ac822f4",
   "metadata": {},
   "outputs": [],
   "source": [
    "import requests\n",
    "from bs4 import BeautifulSoup"
   ]
  },
  {
   "cell_type": "code",
   "execution_count": 53,
   "id": "70533334",
   "metadata": {},
   "outputs": [
    {
     "name": "stdout",
     "output_type": "stream",
     "text": [
      "enter the date in formate mm/dd/yyyy8/31/2023\n"
     ]
    }
   ],
   "source": [
    "date = input(\"enter the date in formate mm/dd/yyyy\")\n",
    "page =requests.get (f\"https://www.yallakora.com/match-center/?date={date}#\")"
   ]
  },
  {
   "cell_type": "code",
   "execution_count": 54,
   "id": "ada43dce",
   "metadata": {},
   "outputs": [],
   "source": [
    "scr = page.content\n",
    "# print (scr)"
   ]
  },
  {
   "cell_type": "code",
   "execution_count": 8,
   "id": "f32d0fe4",
   "metadata": {},
   "outputs": [],
   "source": [
    "soup = BeautifulSoup(scr , \"lxml\")\n",
    "# print(soup)"
   ]
  },
  {
   "cell_type": "code",
   "execution_count": 55,
   "id": "713f0796",
   "metadata": {},
   "outputs": [
    {
     "name": "stdout",
     "output_type": "stream",
     "text": [
      "3\n"
     ]
    }
   ],
   "source": [
    "championships = soup.find_all('div' ,  {'class': 'matchCard'})\n",
    "print(len(championships))"
   ]
  },
  {
   "cell_type": "code",
   "execution_count": 56,
   "id": "b075060e",
   "metadata": {},
   "outputs": [
    {
     "name": "stdout",
     "output_type": "stream",
     "text": [
      "كأس العالم لكرة السلة\n"
     ]
    }
   ],
   "source": [
    "championship_title = championships[0].contents[1].find('h2').text.strip()\n",
    "print(championship_title)"
   ]
  },
  {
   "cell_type": "code",
   "execution_count": 57,
   "id": "57a1b677",
   "metadata": {},
   "outputs": [
    {
     "name": "stdout",
     "output_type": "stream",
     "text": [
      "كأس العالم لكرة السلة\n",
      "دوري المؤتمر الأوروبي\n",
      "الدوري المغربي\n"
     ]
    }
   ],
   "source": [
    "for i in range(len(championships)):\n",
    "    championship_title = championships[i].contents[1].find('h2').text.strip()\n",
    "    print(championship_title)"
   ]
  },
  {
   "cell_type": "code",
   "execution_count": 58,
   "id": "5852d0cd",
   "metadata": {},
   "outputs": [
    {
     "name": "stdout",
     "output_type": "stream",
     "text": [
      "8\n"
     ]
    }
   ],
   "source": [
    "matches = championships[0].contents[3].find_all('li')\n",
    "print(len(matches))"
   ]
  },
  {
   "cell_type": "code",
   "execution_count": 59,
   "id": "a6f17844",
   "metadata": {},
   "outputs": [
    {
     "name": "stdout",
     "output_type": "stream",
     "text": [
      "كاب فيردي\n",
      "فنلندا\n"
     ]
    }
   ],
   "source": [
    "teamA = matches[0].contents[1].find('div' , {'class': 'teamA'}).text.strip()\n",
    "teamB = matches[0].contents[1].find('div' , {'class': 'teamB'}).text.strip()\n",
    "print(teamA)\n",
    "print(teamB)"
   ]
  },
  {
   "cell_type": "code",
   "execution_count": 60,
   "id": "104b81e7",
   "metadata": {},
   "outputs": [
    {
     "name": "stdout",
     "output_type": "stream",
     "text": [
      "كاب فيردي - فنلندا\n",
      "أنجولا - الصين\n",
      "نيوزيلندا - المكسيك\n",
      "كوت ديفوار - لبنان\n",
      "اليابان - فنزويلا\n",
      "جنوب السودان - الفلبين\n",
      "مصر - الأردن\n",
      "فرنسا - ايران\n"
     ]
    }
   ],
   "source": [
    " for j in range(len(matches)):\n",
    "        matches = championships[0].contents[3].find_all('li')\n",
    "        teamA = matches[j].contents[1].find('div' , {'class': 'teamA'}).text.strip()\n",
    "        teamB = matches[j].contents[1].find('div' , {'class': 'teamB'}).text.strip()\n",
    "        print(f'{teamA} - {teamB}')\n",
    "        "
   ]
  },
  {
   "cell_type": "code",
   "execution_count": 61,
   "id": "02d83282",
   "metadata": {},
   "outputs": [
    {
     "name": "stdout",
     "output_type": "stream",
     "text": [
      "كأس العالم لكرة السلة\n",
      "كاب فيردي فنلندا 77 - 100 10:30 بى ان سبورت 3 HD\n",
      "أنجولا الصين 76 - 83 11:00 بى ان سبورت 4 HD\n",
      "نيوزيلندا المكسيك 88 - 97 11:45 بى ان سبورت 2 HD\n",
      "كوت ديفوار لبنان 41 - 55 12:45 بى ان سبورت 1HD\n",
      "اليابان فنزويلا - - - 14:10 بى ان سبورت 4 HD\n",
      "جنوب السودان الفلبين - - - 15:00 بى ان سبورت 3 HD\n",
      "مصر الأردن - - - 15:30 بى ان سبورت 2 HD\n",
      "فرنسا ايران - - - 16:30 بى ان سبورت 1HD\n",
      "====================\n",
      "دوري المؤتمر الأوروبي\n",
      "تفينتي انشخيده فنربخشة - - - 20:00 None\n",
      "آ. فرانكفورت ليفسكي صوفيا - - - 21:30 None\n",
      "====================\n",
      "الدوري المغربي\n",
      "الوداد البيضاوي الفتح الرباطي - - - 23:30 None\n",
      "====================\n"
     ]
    }
   ],
   "source": [
    "for i in range(len(championships)):\n",
    "    matches_file = open(\"myfile.txt\",\"a\")\n",
    "    print(championships[i].contents[1].find('h2').text.strip())\n",
    "    matches = championships[i].contents[3].find_all('li')\n",
    "    for j in range(len(matches)):\n",
    "        teamA = matches[j].find('div', {'class':'teamA'}).text.strip()\n",
    "        teamB = matches[j].find('div', {'class':'teamB'}).text.strip()\n",
    "          # Check if the channel element exists\n",
    "        if matches[j].find('div', {'class':'channel'}):\n",
    "            channel = matches[j].find('div', {'class':'channel'}).text.strip()\n",
    "        else:\n",
    "            # If the channel element does not exist, set channel to None\n",
    "            channel = None\n",
    "\n",
    "        results = matches[j].find('div', {'class':'MResult'}).find_all('span', {'class':'score'})\n",
    "        score = f'{results[0].text.strip()} - {results[1].text.strip()}'\n",
    "\n",
    "        time = matches[j].find('div', {'class':'MResult'}).find('span', {'class':'time'}).text.strip()\n",
    "\n",
    "        print(teamA, teamB, score, time , channel)\n",
    "        matches_file.write(f'{teamA} {teamB} {score} {time} {channel}\\n')\n",
    "        matches_file.write('================================\\n')\n",
    "    \n",
    "    print('='*20)"
   ]
  }
 ],
 "metadata": {
  "kernelspec": {
   "display_name": "Python 3 (ipykernel)",
   "language": "python",
   "name": "python3"
  },
  "language_info": {
   "codemirror_mode": {
    "name": "ipython",
    "version": 3
   },
   "file_extension": ".py",
   "mimetype": "text/x-python",
   "name": "python",
   "nbconvert_exporter": "python",
   "pygments_lexer": "ipython3",
   "version": "3.11.3"
  }
 },
 "nbformat": 4,
 "nbformat_minor": 5
}
