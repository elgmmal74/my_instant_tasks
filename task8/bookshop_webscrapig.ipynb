{
 "cells": [
  {
   "cell_type": "code",
   "execution_count": 1,
   "id": "f43fe21a",
   "metadata": {},
   "outputs": [],
   "source": [
    "import requests\n",
    "from bs4 import BeautifulSoup"
   ]
  },
  {
   "cell_type": "code",
   "execution_count": 3,
   "id": "0c708e09",
   "metadata": {},
   "outputs": [],
   "source": [
    "page = requests.get('https://books.toscrape.com/catalogue/page-1.html')\n",
    "scr = page.content\n",
    "soup = BeautifulSoup(scr , 'lxml')"
   ]
  },
  {
   "cell_type": "code",
   "execution_count": 5,
   "id": "1b18b226",
   "metadata": {},
   "outputs": [
    {
     "name": "stdout",
     "output_type": "stream",
     "text": [
      "20\n"
     ]
    }
   ],
   "source": [
    "books = soup.find_all('li', {'class', 'col-xs-6'})\n",
    "print(len(books))"
   ]
  },
  {
   "cell_type": "code",
   "execution_count": 12,
   "id": "417eafe5",
   "metadata": {},
   "outputs": [
    {
     "name": "stdout",
     "output_type": "stream",
     "text": [
      "A Light in the ...\n"
     ]
    }
   ],
   "source": [
    "book_title = books[0].contents[1].find('h3').text.strip()\n",
    "print(book_title)"
   ]
  },
  {
   "cell_type": "code",
   "execution_count": 13,
   "id": "3311a7a3",
   "metadata": {},
   "outputs": [
    {
     "data": {
      "text/plain": [
       "'£51.77'"
      ]
     },
     "execution_count": 13,
     "metadata": {},
     "output_type": "execute_result"
    }
   ],
   "source": [
    "price = books[0].contents[1].find('div', {'class':'product_price'}).find('p', {'class':'price_color'}).text.strip()\n",
    "price"
   ]
  },
  {
   "cell_type": "code",
   "execution_count": 14,
   "id": "175ef82b",
   "metadata": {},
   "outputs": [
    {
     "name": "stdout",
     "output_type": "stream",
     "text": [
      "A Light in the ... = £51.77\n",
      "Tipping the Velvet = £53.74\n",
      "Soumission = £50.10\n",
      "Sharp Objects = £47.82\n",
      "Sapiens: A Brief History ... = £54.23\n",
      "The Requiem Red = £22.65\n",
      "The Dirty Little Secrets ... = £33.34\n",
      "The Coming Woman: A ... = £17.93\n",
      "The Boys in the ... = £22.60\n",
      "The Black Maria = £52.15\n",
      "Starving Hearts (Triangular Trade ... = £13.99\n",
      "Shakespeare's Sonnets = £20.66\n",
      "Set Me Free = £17.46\n",
      "Scott Pilgrim's Precious Little ... = £52.29\n",
      "Rip it Up and ... = £35.02\n",
      "Our Band Could Be ... = £57.25\n",
      "Olio = £23.88\n",
      "Mesaerion: The Best Science ... = £37.59\n",
      "Libertarianism for Beginners = £51.33\n",
      "It's Only the Himalayas = £45.17\n"
     ]
    }
   ],
   "source": [
    "for i in range(len(books)):\n",
    "    book_title = books[i].contents[1].find('h3').text.strip()\n",
    "    price = books[i].contents[1].find('div', {'class':'product_price'}).find('p', {'class':'price_color'}).text.strip()\n",
    "    print(f'{book_title} = {price}')\n",
    "\n",
    "\n",
    "    "
   ]
  }
 ],
 "metadata": {
  "kernelspec": {
   "display_name": "Python 3 (ipykernel)",
   "language": "python",
   "name": "python3"
  },
  "language_info": {
   "codemirror_mode": {
    "name": "ipython",
    "version": 3
   },
   "file_extension": ".py",
   "mimetype": "text/x-python",
   "name": "python",
   "nbconvert_exporter": "python",
   "pygments_lexer": "ipython3",
   "version": "3.11.3"
  }
 },
 "nbformat": 4,
 "nbformat_minor": 5
}
